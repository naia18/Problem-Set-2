{
 "cells": [
  {
   "cell_type": "markdown",
   "metadata": {},
   "source": [
    "# Exercise 3"
   ]
  },
  {
   "cell_type": "code",
   "execution_count": 1,
   "metadata": {},
   "outputs": [],
   "source": [
    "# MAIN LIBRARIES to use\n",
    "using Optim\n",
    "using Statistics\n",
    "using ForwardDiff\n",
    "using Plots\n",
    "using LinearAlgebra\n",
    "using CSV\n",
    "using DataFrames\n",
    "using StatsFuns"
   ]
  },
  {
   "cell_type": "markdown",
   "metadata": {},
   "source": [
    "First we load the data that Nerlove collected in the early 60s:"
   ]
  },
  {
   "cell_type": "code",
   "execution_count": 2,
   "metadata": {},
   "outputs": [],
   "source": [
    "data = DataFrame(CSV.File(\"nerlove.csv\"))\n",
    "data = log.(data[:,[:cost,:output,:labor,:fuel,:capital]]);"
   ]
  },
  {
   "cell_type": "markdown",
   "metadata": {},
   "source": [
    "Now we assign y and x values:"
   ]
  },
  {
   "cell_type": "code",
   "execution_count": 3,
   "metadata": {},
   "outputs": [],
   "source": [
    "n = size(data,1)\n",
    "y = data[:,1]\n",
    "x = data[:,2:end]\n",
    "x[!,:intercept]=ones(size(data,1))\n",
    "x = x[!,[:intercept,:output,:labor,:fuel,:capital]];   # add a column \"intercept\" of ones at index 1 \n",
    "\n",
    "# Create X and y\n",
    "y = convert(Array,y)                                   # turn both DataFrames into Arrays\n",
    "x = convert(Array,x);"
   ]
  },
  {
   "cell_type": "markdown",
   "metadata": {},
   "source": [
    "##  3 (a). Estimate the parameters using Restricted OLS using the CRTS restrictions\n",
    "\n",
    "The general formulation of linear equality restrictions is the model:\n",
    "\n",
    "$$\n",
    "\\begin{gather*}\n",
    "    y=X\\beta+\\epsilon\\\\\n",
    "    R\\beta=r\n",
    "\\end{gather*}\n",
    "$$\n",
    "\n",
    "where $R$ is a $q\\times k$ matrix ($q$ being the number of constraints on the parameters). In our case, since we want to explore the property of CRTS (constant returns to scale), given that we have a Cobb-Douglass function: \n",
    "\n",
    "$$\n",
    "\\begin{equation}\n",
    "    \\gamma = \\frac{1}{\\beta_q}\\quad\\Rightarrow\\quad \\boxed{\\beta_q=1}\n",
    "\\end{equation}\n",
    "$$\n",
    "\n",
    "And thus, the matrix $R$ and $r$ will be defined as follows:\n",
    "\n",
    "$$\n",
    "\\begin{equation}\n",
    "    R=[0\\,\\,1\\,\\,0\\,\\,0\\,\\,0]\\\\\n",
    "    r=1\n",
    "\\end{equation}\n",
    "$$\n",
    "\n",
    "### Restricted OLS funtamentals\n",
    "\n",
    "$$\n",
    "\\begin{equation}\n",
    "    \\beta^{C}=\\hat{\\beta}+(X'X)^{-1}R'(R(X'X)^{-1}R')^{-1}(r-R\\hat{\\beta})\n",
    "\\end{equation}\n",
    "$$\n",
    "\n",
    "where $\\hat{\\beta}$ is the unconstrained OLS estimate - which we will have to compute in any case to get the constrained one. As far as the variance is concerned:\n",
    "\n",
    "$$\n",
    "\\begin{equation}\n",
    "    Var(\\beta^{C})=M^{C}Var(\\hat{\\beta})(M^{C})'\n",
    "\\end{equation}\n",
    "$$\n",
    "\n",
    "where $M^{C}=I-(X'X)^{-1}R'(R(X'X)^{-1}R')^{-1}R$."
   ]
  },
  {
   "cell_type": "code",
   "execution_count": 4,
   "metadata": {},
   "outputs": [
    {
     "data": {
      "text/plain": [
       "ols (generic function with 1 method)"
      ]
     },
     "execution_count": 4,
     "metadata": {},
     "output_type": "execute_result"
    }
   ],
   "source": [
    "function ols(y::Array{Float64}, x::Array{Float64,2}; R=[], r=[], vc=\"white\", silent=false)\n",
    "        \n",
    "    # compute ols coefficients, fitted values, and errors\n",
    "    function lsfit(y, x)\n",
    "        beta = inv(x'*x)*x'*y\n",
    "        fit = x*beta\n",
    "        errors = y - fit\n",
    "        return beta, fit, errors\n",
    "    end\n",
    "\n",
    "    n,k = size(x)\n",
    "    b, fit, e = lsfit(y,x)\n",
    "    df = n-k\n",
    "    sigsq = (e'*e/df)[1,1]\n",
    "    xx_inv = inv(x'*x)\n",
    "    ess = (e' * e)[1,1]\n",
    "    \n",
    "    # Restricted LS\n",
    "    if R !=[]\n",
    "        res_flag = true      # Restricted_flag True if restrictions\n",
    "        q = size(R,1)\n",
    "        P_inv = inv(R*xx_inv*R')\n",
    "        b = b .- xx_inv*R'*P_inv*(R*b.-r)\n",
    "        e = y-x*b;\n",
    "        ess = (e' * e)[1,1]\n",
    "        df = n-k-q\n",
    "        sigsq = ess/df\n",
    "        A = Matrix{Float64}(I, k, k) .- xx_inv*R'*P_inv*R;  # the matrix relating b and b_r\n",
    "    end\n",
    "\n",
    "    xe = x.*e\n",
    "    varb = xx_inv*xe'xe*xx_inv\n",
    "\n",
    "    # restricted LS\n",
    "    if R !=[]\n",
    "        varb = A*varb*A'\n",
    "    end\n",
    "\n",
    "    # We only need the SE\n",
    "    seb = sqrt.(diag(varb))\n",
    "    seb = seb.*(seb.>1e-16) # round off to zero when there are restrictions\n",
    "\n",
    "    return b, seb, res_flag\n",
    "end"
   ]
  },
  {
   "cell_type": "code",
   "execution_count": 5,
   "metadata": {},
   "outputs": [],
   "source": [
    "# Set restrictions: \n",
    "R = [0 1 0 0 0]        # CRTS if \\beta_q=1\n",
    "r = 1;"
   ]
  },
  {
   "cell_type": "code",
   "execution_count": 6,
   "metadata": {},
   "outputs": [
    {
     "name": "stdout",
     "output_type": "stream",
     "text": [
      "Restricted LS:\n",
      "\n"
     ]
    },
    {
     "data": {
      "text/html": [
       "<table class=\"data-frame\"><thead><tr><th></th><th>Estimators</th><th>Values</th><th>Standard_Errors</th></tr><tr><th></th><th>String</th><th>Float64</th><th>Float64</th></tr></thead><tbody><p>5 rows × 3 columns</p><tr><th>1</th><td>beta_hat1</td><td>-7.53038</td><td>2.9195</td></tr><tr><th>2</th><td>beta_hat2</td><td>1.0</td><td>0.0</td></tr><tr><th>3</th><td>beta_hat3</td><td>0.0195454</td><td>0.375729</td></tr><tr><th>4</th><td>beta_hat4</td><td>0.715006</td><td>0.15923</td></tr><tr><th>5</th><td>beta_hat5</td><td>0.0758046</td><td>0.576294</td></tr></tbody></table>"
      ],
      "text/latex": [
       "\\begin{tabular}{r|ccc}\n",
       "\t& Estimators & Values & Standard\\_Errors\\\\\n",
       "\t\\hline\n",
       "\t& String & Float64 & Float64\\\\\n",
       "\t\\hline\n",
       "\t1 & beta\\_hat1 & -7.53038 & 2.9195 \\\\\n",
       "\t2 & beta\\_hat2 & 1.0 & 0.0 \\\\\n",
       "\t3 & beta\\_hat3 & 0.0195454 & 0.375729 \\\\\n",
       "\t4 & beta\\_hat4 & 0.715006 & 0.15923 \\\\\n",
       "\t5 & beta\\_hat5 & 0.0758046 & 0.576294 \\\\\n",
       "\\end{tabular}\n"
      ],
      "text/plain": [
       "\u001b[1m5×3 DataFrame\u001b[0m\n",
       "\u001b[1m Row \u001b[0m│\u001b[1m Estimators \u001b[0m\u001b[1m Values     \u001b[0m\u001b[1m Standard_Errors \u001b[0m\n",
       "\u001b[1m     \u001b[0m│\u001b[90m String     \u001b[0m\u001b[90m Float64    \u001b[0m\u001b[90m Float64         \u001b[0m\n",
       "─────┼─────────────────────────────────────────\n",
       "   1 │ beta_hat1   -7.53038           2.9195\n",
       "   2 │ beta_hat2    1.0               0.0\n",
       "   3 │ beta_hat3    0.0195454         0.375729\n",
       "   4 │ beta_hat4    0.715006          0.15923\n",
       "   5 │ beta_hat5    0.0758046         0.576294"
      ]
     },
     "execution_count": 6,
     "metadata": {},
     "output_type": "execute_result"
    }
   ],
   "source": [
    "# ----------------- OLS ESTIMATION -----------------------\n",
    "\n",
    "(b, seb, flg) = ols(y, x, R=R, r=r);\n",
    "\n",
    "# Print results\n",
    "if flg\n",
    "    print(\"Restricted LS:\\n\\n\")\n",
    "    df = DataFrame(Estimators = [\"beta_hat1\", \"beta_hat2\", \"beta_hat3\", \"beta_hat4\", \"beta_hat5\"], Values = b, Standard_Errors=seb)\n",
    "else\n",
    "    print(\"Non-restricted LS:\\n\\n\")\n",
    "    println(\"Estimators: \",b)\n",
    "    println(\"Standard Errors: \",seb)\n",
    "end\n",
    "\n"
   ]
  },
  {
   "cell_type": "markdown",
   "metadata": {},
   "source": [
    "## 3 (b). Calculate Wald, LR, and LM statistics and comment on the hypothesis test on restrictions."
   ]
  },
  {
   "cell_type": "code",
   "execution_count": 7,
   "metadata": {},
   "outputs": [
    {
     "data": {
      "text/plain": [
       "TestStatistics (generic function with 1 method)"
      ]
     },
     "execution_count": 7,
     "metadata": {},
     "output_type": "execute_result"
    }
   ],
   "source": [
    "function TestStatistics(y, x, R, r; silent=false)\n",
    "    n,k = size(x)\n",
    "    q = size(R,1)\n",
    "    b = x\\y\n",
    "    xx_inv = inv(x'*x)\n",
    "    P_inv = inv(R*xx_inv*R')\n",
    "    b_r = b .- xx_inv*R'*P_inv*(R*b.-r)\n",
    "    e = y - x*b\n",
    "    ess = (e'*e)[1]\n",
    "    e_r = y - x*b_r\n",
    "    ess_r = (e_r' * e_r)[1]\n",
    "    sigsqhat = ess/(n)\n",
    "    sigsqhat_r = ess_r/(n)\n",
    "    # Wald test (uses unrestricted model's est. of sig^2)\n",
    "    W = (R*b.-r)'*P_inv*(R*b.-r)/sigsqhat\n",
    "    # LR test\n",
    "    lnl = -n/2*log(2*pi) - n/2*log(sigsqhat) - ess/(2.0*sigsqhat)\n",
    "    lnl_r = -n/2*log(2*pi) - n/2*log(sigsqhat_r) - ess_r/(2.0*sigsqhat_r)\n",
    "    LR = 2.0*(lnl-lnl_r)\n",
    "    # Score test (uses restricted model's est. of sig^2)\n",
    "    P_x = x * xx_inv * x'\n",
    "    S = e_r' * P_x * e_r/(sigsqhat_r)\n",
    "    \n",
    "    tests_label = [\"Wald\",\"LR\",\"LM\"]\n",
    "    tests = [W[1], LR[1], S[1]]\n",
    "    pvalues = chisqccdf.(q,tests)\n",
    "    \n",
    "    return tests_label, tests, pvalues\n",
    "end"
   ]
  },
  {
   "cell_type": "code",
   "execution_count": 8,
   "metadata": {},
   "outputs": [
    {
     "data": {
      "text/html": [
       "<table class=\"data-frame\"><thead><tr><th></th><th>Test_type</th><th>Test_values</th><th>p_values</th></tr><tr><th></th><th>String</th><th>Float64</th><th>Float64</th></tr></thead><tbody><p>3 rows × 3 columns</p><tr><th>1</th><td>Wald</td><td>265.414</td><td>1.13343e-59</td></tr><tr><th>2</th><td>LR</td><td>150.863</td><td>1.12298e-34</td></tr><tr><th>3</th><td>LM</td><td>93.7713</td><td>3.54176e-22</td></tr></tbody></table>"
      ],
      "text/latex": [
       "\\begin{tabular}{r|ccc}\n",
       "\t& Test\\_type & Test\\_values & p\\_values\\\\\n",
       "\t\\hline\n",
       "\t& String & Float64 & Float64\\\\\n",
       "\t\\hline\n",
       "\t1 & Wald & 265.414 & 1.13343e-59 \\\\\n",
       "\t2 & LR & 150.863 & 1.12298e-34 \\\\\n",
       "\t3 & LM & 93.7713 & 3.54176e-22 \\\\\n",
       "\\end{tabular}\n"
      ],
      "text/plain": [
       "\u001b[1m3×3 DataFrame\u001b[0m\n",
       "\u001b[1m Row \u001b[0m│\u001b[1m Test_type \u001b[0m\u001b[1m Test_values \u001b[0m\u001b[1m p_values    \u001b[0m\n",
       "\u001b[1m     \u001b[0m│\u001b[90m String    \u001b[0m\u001b[90m Float64     \u001b[0m\u001b[90m Float64     \u001b[0m\n",
       "─────┼─────────────────────────────────────\n",
       "   1 │ Wald          265.414   1.13343e-59\n",
       "   2 │ LR            150.863   1.12298e-34\n",
       "   3 │ LM             93.7713  3.54176e-22"
      ]
     },
     "execution_count": 8,
     "metadata": {},
     "output_type": "execute_result"
    }
   ],
   "source": [
    "# -------------- TESTING --------------\n",
    "t_label, tests, pval = TestStatistics(y, x, R, r)\n",
    "df = DataFrame(Test_type = t_label, Test_values = tests, p_values = pval)"
   ]
  },
  {
   "cell_type": "markdown",
   "metadata": {},
   "source": [
    "### Commenting the results \n",
    "\n",
    "We obtain a very very small p-value: we have thus **strong evidence to reject the null hypothesis** at the usual significance level. In other words, the hypothesis that the technology exhibits CRTS must be rejected by analysing the data obtained from _nerlove.csv_. From this hypothesis, we can only state that the returns to scale in Electricity Suppy (from the data that Nerlove collected in the early 60s), are not of the type CRTS. "
   ]
  },
  {
   "cell_type": "code",
   "execution_count": null,
   "metadata": {},
   "outputs": [],
   "source": []
  }
 ],
 "metadata": {
  "kernelspec": {
   "display_name": "Julia 1.6.0",
   "language": "julia",
   "name": "julia-1.6"
  },
  "language_info": {
   "file_extension": ".jl",
   "mimetype": "application/julia",
   "name": "julia",
   "version": "1.6.0"
  }
 },
 "nbformat": 4,
 "nbformat_minor": 2
}